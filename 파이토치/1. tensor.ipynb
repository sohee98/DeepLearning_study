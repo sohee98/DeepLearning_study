{
 "cells": [
  {
   "cell_type": "code",
   "execution_count": 12,
   "id": "3305ca48",
   "metadata": {},
   "outputs": [],
   "source": [
    "import torch\n",
    "import numpy as np"
   ]
  },
  {
   "cell_type": "code",
   "execution_count": 13,
   "id": "9c340b95",
   "metadata": {},
   "outputs": [
    {
     "name": "stdout",
     "output_type": "stream",
     "text": [
      "tensor([[0., 0., 0., 0.],\n",
      "        [0., 0., 0., 0.],\n",
      "        [0., 0., 0., 0.],\n",
      "        [0., 0., 0., 0.],\n",
      "        [0., 0., 0., 0.]])\n"
     ]
    }
   ],
   "source": [
    "x = torch.empty(5,4)\n",
    "print(x)"
   ]
  },
  {
   "cell_type": "code",
   "execution_count": 14,
   "id": "23b5a9a6",
   "metadata": {
    "scrolled": true
   },
   "outputs": [
    {
     "data": {
      "text/plain": [
       "tensor([[1., 1., 1.],\n",
       "        [1., 1., 1.],\n",
       "        [1., 1., 1.]])"
      ]
     },
     "execution_count": 14,
     "metadata": {},
     "output_type": "execute_result"
    }
   ],
   "source": [
    "torch.ones(3,3)"
   ]
  },
  {
   "cell_type": "code",
   "execution_count": 11,
   "id": "bff4b393",
   "metadata": {},
   "outputs": [
    {
     "data": {
      "text/plain": [
       "tensor([0., 0.])"
      ]
     },
     "execution_count": 11,
     "metadata": {},
     "output_type": "execute_result"
    }
   ],
   "source": [
    "torch.zeros(2)"
   ]
  },
  {
   "cell_type": "code",
   "execution_count": 33,
   "id": "918a950e",
   "metadata": {},
   "outputs": [
    {
     "data": {
      "text/plain": [
       "tensor([[0.0195, 0.3847, 0.9592, 0.3144, 0.5852, 0.5276],\n",
       "        [0.9451, 0.5260, 0.7208, 0.5122, 0.9701, 0.8066],\n",
       "        [0.7855, 0.0326, 0.4288, 0.8256, 0.8251, 0.9736],\n",
       "        [0.8675, 0.6573, 0.4700, 0.2886, 0.3396, 0.7870],\n",
       "        [0.1353, 0.5484, 0.6570, 0.9204, 0.4216, 0.8371]])"
      ]
     },
     "execution_count": 33,
     "metadata": {},
     "output_type": "execute_result"
    }
   ],
   "source": [
    "torch.rand(5,6)"
   ]
  },
  {
   "cell_type": "code",
   "execution_count": 34,
   "id": "8256a160",
   "metadata": {},
   "outputs": [],
   "source": [
    "l = [13,4]\n",
    "r = np.array([4,56,7])"
   ]
  },
  {
   "cell_type": "code",
   "execution_count": 35,
   "id": "e4e35cbf",
   "metadata": {},
   "outputs": [
    {
     "data": {
      "text/plain": [
       "tensor([ 4, 56,  7], dtype=torch.int32)"
      ]
     },
     "execution_count": 35,
     "metadata": {},
     "output_type": "execute_result"
    }
   ],
   "source": [
    "torch.tensor(r)"
   ]
  },
  {
   "cell_type": "code",
   "execution_count": 36,
   "id": "77906819",
   "metadata": {},
   "outputs": [
    {
     "data": {
      "text/plain": [
       "torch.Size([5, 4])"
      ]
     },
     "execution_count": 36,
     "metadata": {},
     "output_type": "execute_result"
    }
   ],
   "source": [
    "x.size()"
   ]
  },
  {
   "cell_type": "code",
   "execution_count": 37,
   "id": "616ddbf5",
   "metadata": {},
   "outputs": [
    {
     "data": {
      "text/plain": [
       "torch.Tensor"
      ]
     },
     "execution_count": 37,
     "metadata": {},
     "output_type": "execute_result"
    }
   ],
   "source": [
    "type(x)"
   ]
  },
  {
   "cell_type": "code",
   "execution_count": 38,
   "id": "dea55e0f",
   "metadata": {},
   "outputs": [
    {
     "name": "stdout",
     "output_type": "stream",
     "text": [
      "tensor([[0.5954, 0.4005],\n",
      "        [0.6793, 0.1926]])\n",
      "tensor([[0.9871, 0.6968],\n",
      "        [0.5637, 0.1491]])\n"
     ]
    }
   ],
   "source": [
    "x = torch.rand(2,2)\n",
    "y = torch.rand(2,2)\n",
    "print(x)\n",
    "print(y)"
   ]
  },
  {
   "cell_type": "code",
   "execution_count": 39,
   "id": "a14d2c0f",
   "metadata": {},
   "outputs": [
    {
     "data": {
      "text/plain": [
       "tensor([[1.5825, 1.0972],\n",
       "        [1.2430, 0.3417]])"
      ]
     },
     "execution_count": 39,
     "metadata": {},
     "output_type": "execute_result"
    }
   ],
   "source": [
    "x+y"
   ]
  },
  {
   "cell_type": "code",
   "execution_count": 40,
   "id": "20d2b50b",
   "metadata": {},
   "outputs": [
    {
     "data": {
      "text/plain": [
       "tensor([[1.5825, 1.0972],\n",
       "        [1.2430, 0.3417]])"
      ]
     },
     "execution_count": 40,
     "metadata": {},
     "output_type": "execute_result"
    }
   ],
   "source": [
    "torch.add(x,y)"
   ]
  },
  {
   "cell_type": "code",
   "execution_count": 41,
   "id": "c38e4a8a",
   "metadata": {},
   "outputs": [
    {
     "data": {
      "text/plain": [
       "tensor([[1.5825, 1.0972],\n",
       "        [1.2430, 0.3417]])"
      ]
     },
     "execution_count": 41,
     "metadata": {},
     "output_type": "execute_result"
    }
   ],
   "source": [
    "y.add(x)"
   ]
  },
  {
   "cell_type": "code",
   "execution_count": 42,
   "id": "6176485e",
   "metadata": {},
   "outputs": [
    {
     "data": {
      "text/plain": [
       "tensor([[0.9871, 0.6968],\n",
       "        [0.5637, 0.1491]])"
      ]
     },
     "execution_count": 42,
     "metadata": {},
     "output_type": "execute_result"
    }
   ],
   "source": [
    "y"
   ]
  },
  {
   "cell_type": "code",
   "execution_count": 43,
   "id": "da5e20ad",
   "metadata": {},
   "outputs": [
    {
     "data": {
      "text/plain": [
       "tensor([[1.5825, 1.0972],\n",
       "        [1.2430, 0.3417]])"
      ]
     },
     "execution_count": 43,
     "metadata": {},
     "output_type": "execute_result"
    }
   ],
   "source": [
    "y.add_(x)  # y에 더한값을 저장"
   ]
  },
  {
   "cell_type": "code",
   "execution_count": 44,
   "id": "d0f90fc1",
   "metadata": {},
   "outputs": [
    {
     "data": {
      "text/plain": [
       "tensor([[1.5825, 1.0972],\n",
       "        [1.2430, 0.3417]])"
      ]
     },
     "execution_count": 44,
     "metadata": {},
     "output_type": "execute_result"
    }
   ],
   "source": [
    "y"
   ]
  },
  {
   "cell_type": "code",
   "execution_count": 45,
   "id": "225cffc0",
   "metadata": {},
   "outputs": [
    {
     "data": {
      "text/plain": [
       "tensor(0.3417)"
      ]
     },
     "execution_count": 45,
     "metadata": {},
     "output_type": "execute_result"
    }
   ],
   "source": [
    "y[1,1] #1행 1열"
   ]
  },
  {
   "cell_type": "code",
   "execution_count": 46,
   "id": "af692366",
   "metadata": {},
   "outputs": [
    {
     "data": {
      "text/plain": [
       "tensor([1.0972, 0.3417])"
      ]
     },
     "execution_count": 46,
     "metadata": {},
     "output_type": "execute_result"
    }
   ],
   "source": [
    "y[:,1]  #1열"
   ]
  },
  {
   "cell_type": "code",
   "execution_count": 49,
   "id": "b8f65097",
   "metadata": {},
   "outputs": [
    {
     "name": "stdout",
     "output_type": "stream",
     "text": [
      "tensor([[0.8433, 0.3629, 0.7150, 0.0461, 0.7493, 0.8083, 0.6160, 0.5655],\n",
      "        [0.6128, 0.1158, 0.1140, 0.7480, 0.5517, 0.5458, 0.2854, 0.9791],\n",
      "        [0.6752, 0.7555, 0.9299, 0.5186, 0.2889, 0.4892, 0.7273, 0.7479],\n",
      "        [0.6092, 0.3547, 0.9778, 0.0305, 0.3986, 0.2748, 0.1785, 0.0493],\n",
      "        [0.3163, 0.9214, 0.2285, 0.2154, 0.7516, 0.6247, 0.8256, 0.3062],\n",
      "        [0.2104, 0.5130, 0.1606, 0.1923, 0.3668, 0.0309, 0.9914, 0.0048],\n",
      "        [0.6380, 0.3844, 0.6727, 0.4935, 0.7907, 0.7812, 0.5702, 0.8438],\n",
      "        [0.1551, 0.0080, 0.2554, 0.7388, 0.0856, 0.8029, 0.0459, 0.4509]])\n"
     ]
    }
   ],
   "source": [
    "x = torch.rand(8,8)\n",
    "print(x)"
   ]
  },
  {
   "cell_type": "code",
   "execution_count": 50,
   "id": "3da73afc",
   "metadata": {},
   "outputs": [
    {
     "data": {
      "text/plain": [
       "tensor([0.8433, 0.3629, 0.7150, 0.0461, 0.7493, 0.8083, 0.6160, 0.5655, 0.6128,\n",
       "        0.1158, 0.1140, 0.7480, 0.5517, 0.5458, 0.2854, 0.9791, 0.6752, 0.7555,\n",
       "        0.9299, 0.5186, 0.2889, 0.4892, 0.7273, 0.7479, 0.6092, 0.3547, 0.9778,\n",
       "        0.0305, 0.3986, 0.2748, 0.1785, 0.0493, 0.3163, 0.9214, 0.2285, 0.2154,\n",
       "        0.7516, 0.6247, 0.8256, 0.3062, 0.2104, 0.5130, 0.1606, 0.1923, 0.3668,\n",
       "        0.0309, 0.9914, 0.0048, 0.6380, 0.3844, 0.6727, 0.4935, 0.7907, 0.7812,\n",
       "        0.5702, 0.8438, 0.1551, 0.0080, 0.2554, 0.7388, 0.0856, 0.8029, 0.0459,\n",
       "        0.4509])"
      ]
     },
     "execution_count": 50,
     "metadata": {},
     "output_type": "execute_result"
    }
   ],
   "source": [
    "x.view(64)"
   ]
  },
  {
   "cell_type": "code",
   "execution_count": 51,
   "id": "bcd3f581",
   "metadata": {},
   "outputs": [
    {
     "data": {
      "text/plain": [
       "tensor([[0.8433, 0.3629, 0.7150, 0.0461, 0.7493, 0.8083, 0.6160, 0.5655, 0.6128,\n",
       "         0.1158, 0.1140, 0.7480, 0.5517, 0.5458, 0.2854, 0.9791],\n",
       "        [0.6752, 0.7555, 0.9299, 0.5186, 0.2889, 0.4892, 0.7273, 0.7479, 0.6092,\n",
       "         0.3547, 0.9778, 0.0305, 0.3986, 0.2748, 0.1785, 0.0493],\n",
       "        [0.3163, 0.9214, 0.2285, 0.2154, 0.7516, 0.6247, 0.8256, 0.3062, 0.2104,\n",
       "         0.5130, 0.1606, 0.1923, 0.3668, 0.0309, 0.9914, 0.0048],\n",
       "        [0.6380, 0.3844, 0.6727, 0.4935, 0.7907, 0.7812, 0.5702, 0.8438, 0.1551,\n",
       "         0.0080, 0.2554, 0.7388, 0.0856, 0.8029, 0.0459, 0.4509]])"
      ]
     },
     "execution_count": 51,
     "metadata": {},
     "output_type": "execute_result"
    }
   ],
   "source": [
    "x.view(4,16)  # 4 * 16 행렬로 표시"
   ]
  },
  {
   "cell_type": "code",
   "execution_count": 52,
   "id": "6088dd9c",
   "metadata": {},
   "outputs": [
    {
     "data": {
      "text/plain": [
       "tensor([[0.8433, 0.3629, 0.7150, 0.0461, 0.7493, 0.8083, 0.6160, 0.5655, 0.6128,\n",
       "         0.1158, 0.1140, 0.7480, 0.5517, 0.5458, 0.2854, 0.9791],\n",
       "        [0.6752, 0.7555, 0.9299, 0.5186, 0.2889, 0.4892, 0.7273, 0.7479, 0.6092,\n",
       "         0.3547, 0.9778, 0.0305, 0.3986, 0.2748, 0.1785, 0.0493],\n",
       "        [0.3163, 0.9214, 0.2285, 0.2154, 0.7516, 0.6247, 0.8256, 0.3062, 0.2104,\n",
       "         0.5130, 0.1606, 0.1923, 0.3668, 0.0309, 0.9914, 0.0048],\n",
       "        [0.6380, 0.3844, 0.6727, 0.4935, 0.7907, 0.7812, 0.5702, 0.8438, 0.1551,\n",
       "         0.0080, 0.2554, 0.7388, 0.0856, 0.8029, 0.0459, 0.4509]])"
      ]
     },
     "execution_count": 52,
     "metadata": {},
     "output_type": "execute_result"
    }
   ],
   "source": [
    "x.view(-1,16)  # -1 = 자동값"
   ]
  },
  {
   "cell_type": "code",
   "execution_count": 53,
   "id": "f6574fc8",
   "metadata": {},
   "outputs": [
    {
     "data": {
      "text/plain": [
       "tensor([[[0.8433, 0.3629, 0.7150, 0.0461],\n",
       "         [0.7493, 0.8083, 0.6160, 0.5655],\n",
       "         [0.6128, 0.1158, 0.1140, 0.7480],\n",
       "         [0.5517, 0.5458, 0.2854, 0.9791]],\n",
       "\n",
       "        [[0.6752, 0.7555, 0.9299, 0.5186],\n",
       "         [0.2889, 0.4892, 0.7273, 0.7479],\n",
       "         [0.6092, 0.3547, 0.9778, 0.0305],\n",
       "         [0.3986, 0.2748, 0.1785, 0.0493]],\n",
       "\n",
       "        [[0.3163, 0.9214, 0.2285, 0.2154],\n",
       "         [0.7516, 0.6247, 0.8256, 0.3062],\n",
       "         [0.2104, 0.5130, 0.1606, 0.1923],\n",
       "         [0.3668, 0.0309, 0.9914, 0.0048]],\n",
       "\n",
       "        [[0.6380, 0.3844, 0.6727, 0.4935],\n",
       "         [0.7907, 0.7812, 0.5702, 0.8438],\n",
       "         [0.1551, 0.0080, 0.2554, 0.7388],\n",
       "         [0.0856, 0.8029, 0.0459, 0.4509]]])"
      ]
     },
     "execution_count": 53,
     "metadata": {},
     "output_type": "execute_result"
    }
   ],
   "source": [
    "x.view(-1, 4, 4)"
   ]
  },
  {
   "cell_type": "code",
   "execution_count": 54,
   "id": "290ff767",
   "metadata": {},
   "outputs": [
    {
     "name": "stdout",
     "output_type": "stream",
     "text": [
      "[[0.84331053 0.362922   0.71501863 0.04611647 0.7493175  0.80826044\n",
      "  0.61600167 0.5654922 ]\n",
      " [0.6127926  0.11583292 0.11395371 0.7479887  0.55167913 0.545797\n",
      "  0.28541595 0.9790671 ]\n",
      " [0.6752362  0.7554626  0.92994636 0.51860464 0.28885406 0.4891835\n",
      "  0.72728777 0.7478626 ]\n",
      " [0.60921276 0.35472202 0.97776306 0.03048253 0.398602   0.27475864\n",
      "  0.17853254 0.04932487]\n",
      " [0.31628472 0.9213726  0.22849542 0.21537167 0.7515599  0.62474483\n",
      "  0.8255992  0.30619705]\n",
      " [0.2103762  0.51300627 0.16059077 0.19231182 0.3667547  0.03093642\n",
      "  0.99141186 0.0047909 ]\n",
      " [0.6379982  0.38444746 0.6726969  0.49353433 0.79065114 0.7812256\n",
      "  0.57018846 0.8437897 ]\n",
      " [0.15511578 0.00797361 0.25539887 0.7387524  0.08555603 0.8029334\n",
      "  0.0458945  0.4509182 ]]\n"
     ]
    }
   ],
   "source": [
    "y = x.numpy()\n",
    "print(y)"
   ]
  },
  {
   "cell_type": "code",
   "execution_count": 55,
   "id": "b658e675",
   "metadata": {},
   "outputs": [
    {
     "data": {
      "text/plain": [
       "numpy.ndarray"
      ]
     },
     "execution_count": 55,
     "metadata": {},
     "output_type": "execute_result"
    }
   ],
   "source": [
    "type(y)"
   ]
  },
  {
   "cell_type": "code",
   "execution_count": 56,
   "id": "37cd75d9",
   "metadata": {},
   "outputs": [],
   "source": [
    "x = torch.ones(1)"
   ]
  },
  {
   "cell_type": "code",
   "execution_count": 57,
   "id": "3083a352",
   "metadata": {},
   "outputs": [
    {
     "data": {
      "text/plain": [
       "tensor([1.])"
      ]
     },
     "execution_count": 57,
     "metadata": {},
     "output_type": "execute_result"
    }
   ],
   "source": [
    "x"
   ]
  },
  {
   "cell_type": "code",
   "execution_count": 58,
   "id": "1c232833",
   "metadata": {},
   "outputs": [
    {
     "data": {
      "text/plain": [
       "1.0"
      ]
     },
     "execution_count": 58,
     "metadata": {},
     "output_type": "execute_result"
    }
   ],
   "source": [
    "x.item()  # tensor안의 값을 숫자 형태로 불러옴"
   ]
  },
  {
   "cell_type": "code",
   "execution_count": null,
   "id": "f7400216",
   "metadata": {},
   "outputs": [],
   "source": []
  }
 ],
 "metadata": {
  "kernelspec": {
   "display_name": "Python 3 (ipykernel)",
   "language": "python",
   "name": "python3"
  },
  "language_info": {
   "codemirror_mode": {
    "name": "ipython",
    "version": 3
   },
   "file_extension": ".py",
   "mimetype": "text/x-python",
   "name": "python",
   "nbconvert_exporter": "python",
   "pygments_lexer": "ipython3",
   "version": "3.9.7"
  }
 },
 "nbformat": 4,
 "nbformat_minor": 5
}
